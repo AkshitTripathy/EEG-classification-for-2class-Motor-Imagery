{
 "cells": [
  {
   "cell_type": "code",
   "execution_count": 1,
   "metadata": {},
   "outputs": [],
   "source": [
    "import numpy as np\n",
    "import scipy\n",
    "from scipy.io import loadmat\n",
    "from scipy import linalg as LA\n",
    "import tensorflow as tf\n",
    "from tensorflow import keras\n",
    "import matplotlib.pyplot as plt"
   ]
  },
  {
   "cell_type": "code",
   "execution_count": 2,
   "metadata": {},
   "outputs": [],
   "source": [
    "def covariance(X):\n",
    "    return np.dot(X,X.T)/np.trace(np.dot(X,X.T))\n",
    "\n",
    "def get_feat(data,sf):\n",
    "    return np.log(np.var(np.dot(sf.T,data.T),axis=1)) #check axis"
   ]
  },
  {
   "cell_type": "code",
   "execution_count": 3,
   "metadata": {},
   "outputs": [],
   "source": [
    "def get_spatial(left, right, J):\n",
    "    c = left + right\n",
    "    eigvals,eigvecs = LA.eig(c)\n",
    "    diag_inv = np.zeros((c.shape[1],c.shape[1]))\n",
    "    for i in range(eigvals.shape[0]):\n",
    "        diag_inv[i,i]=(1/np.abs(eigvals[i].real))\n",
    "        \n",
    "    P = np.sqrt(diag_inv)*eigvecs.T\n",
    "    s_l = P* left*P.T\n",
    "    s_r = P* right*P.T\n",
    "    E1, U1 = LA.eig(s_l,s_r)\n",
    "    ord1 = np.argsort(E1)\n",
    "    ord1 = ord1[::-1]\n",
    "    E1 = E1[ord1]\n",
    "    U1 = U1[:,ord1]\n",
    "    W = np.dot(U1,P)\n",
    "    W_select = np.zeros([np.shape(W)[0],2*J])\n",
    "    W_select[:,0:J]=W[:,0:J]\n",
    "    W_select[:,J::] = W[:,np.shape(W)[1]-J:np.shape(W)[1]]\n",
    "    return W_select"
   ]
  },
  {
   "cell_type": "code",
   "execution_count": 4,
   "metadata": {},
   "outputs": [
    {
     "name": "stdout",
     "output_type": "stream",
     "text": [
      "Training Features Computed\n",
      " Computing Testing features...\n",
      "Features for training and Testing computed\n"
     ]
    }
   ],
   "source": [
    "num_sub=14\n",
    "features_test=dict()\n",
    "features_train=dict()\n",
    "labels_train=dict()\n",
    "labels_test=dict()\n",
    "num_channels=15\n",
    "hand=np.zeros((num_channels,num_channels))\n",
    "leg=np.zeros((num_channels,num_channels))\n",
    "labels=[]\n",
    "spatial_filter=dict()\n",
    "for sub in range(num_sub):\n",
    "    features_train[sub]=[]\n",
    "    labels_train[sub]=[]\n",
    "    file_train = 'S0%dT.mat'% (sub+1)\n",
    "#     mat_train = scipy.io.loadmat(file_train)\n",
    "    if (sub+1)<10:    \n",
    "        file_train='S0%dT.mat'% (sub+1)\n",
    "        mat_train=scipy.io.loadmat(file_train)\n",
    "    else:\n",
    "        file_train='S%dT.mat'% (sub+1)\n",
    "        mat_train=scipy.io.loadmat(file_train)\n",
    "    data_train=mat_train['data']\n",
    "    for k in range(5):\n",
    "        cell_train=data_train[0][k]\n",
    "        X_train=cell_train[0][0][0]\n",
    "        time_train=cell_train[0][0][1]\n",
    "        labels_x_train=cell_train[0][0][2]\n",
    "        labels_train[sub].extend(labels_x_train[0])\n",
    "        var=0\n",
    "        for l_x in range(len(labels_x_train[0])):\n",
    "            if labels_x_train[0][l_x]==1:\n",
    "                hand+=covariance(X_train[var:time_train[0][l_x],:].T) #transpose because we need num_channel vs num_channel\n",
    "            else:\n",
    "                leg+=covariance(X_train[var:time_train[0][l_x],:].T)\n",
    "            var=time_train[0][l_x]\n",
    "        mean_hand=hand/num_sub\n",
    "        mean_leg=leg/num_sub\n",
    "        num_features=3 \n",
    "        spatial_filter[sub]=get_spatial(mean_hand,mean_leg,num_features)\n",
    "    \n",
    "        var=0\n",
    "        for count in range(len(time_train[0])):\n",
    "            features_train[sub].append(get_feat(X_train[var:time_train[0][count],:],spatial_filter[sub]))\n",
    "            var=time_train[0][count]    \n",
    "    features_train[sub]=np.array(features_train[sub]) \n",
    "    np.random.shuffle(features_train[sub])\n",
    "print(\"Training Features Computed\\n Computing Testing features...\")\n",
    "for sub in range(num_sub): \n",
    "    features_test[sub]=[]\n",
    "    labels_test[sub]=[]\n",
    "    file_test = 'S0%dE.mat'% (sub+1)\n",
    "#     mat_test = scipy.io.loadmat(file_train)\n",
    "    if (sub+1)<10:\n",
    "        file_test='S0%dE.mat'% (sub+1)\n",
    "        mat_test=scipy.io.loadmat(file_test)\n",
    "    else:\n",
    "        file_test='S%dE.mat'% (sub+1)\n",
    "        mat_test=scipy.io.loadmat(file_test)\n",
    "    data_test=mat_test['data']\n",
    "    for k in range(3):    \n",
    "        cell_test=data_test[0][k]\n",
    "        X_test=cell_test[0][0][0]\n",
    "        time_test=cell_test[0][0][1]\n",
    "        labels_x_test=cell_test[0][0][2]\n",
    "        labels_test[sub].extend(labels_x_test[0])    \n",
    "        var=0\n",
    "        for count in range(len(time_test[0])):\n",
    "            features_test[sub].append(get_feat(X_test[var:time_test[0][count],:],spatial_filter[sub]))\n",
    "            var=time_test[0][count]   \n",
    "    features_test[sub]=np.array(features_test[sub])\n",
    "    np.random.shuffle(features_test[sub])\n",
    "print(\"Features for training and Testing computed\")"
   ]
  },
  {
   "cell_type": "code",
   "execution_count": 5,
   "metadata": {},
   "outputs": [],
   "source": [
    "labels_tr = np.array(labels_train[sub])\n",
    "labels_ts = np.array(labels_test[sub])\n",
    "features_tr = features_train[sub]\n",
    "features_ts = features_test[sub]\n"
   ]
  },
  {
   "cell_type": "code",
   "execution_count": 18,
   "metadata": {},
   "outputs": [],
   "source": [
    "model = keras.Sequential([keras.layers.Dense(16,input_dim=np.shape(features_tr)[1], activation='sigmoid', kernel_initializer='uniform'),\n",
    "                          keras.layers.Dense(30, activation = 'sigmoid', kernel_initializer = 'uniform'),\n",
    "                          keras.layers.Dense(1,activation='sigmoid', kernel_initializer='uniform')])"
   ]
  },
  {
   "cell_type": "code",
   "execution_count": 19,
   "metadata": {},
   "outputs": [],
   "source": [
    "model.compile(loss='binary_crossentropy', optimizer = 'adam', metrics=['acc'])"
   ]
  },
  {
   "cell_type": "code",
   "execution_count": 20,
   "metadata": {
    "scrolled": true
   },
   "outputs": [
    {
     "name": "stdout",
     "output_type": "stream",
     "text": [
      "Train on 80 samples, validate on 20 samples\n",
      "Epoch 1/20\n",
      "80/80 [==============================] - 1s 7ms/sample - loss: 0.6146 - acc: 0.5000 - val_loss: 0.5767 - val_acc: 0.5000\n",
      "Epoch 2/20\n",
      "80/80 [==============================] - 0s 175us/sample - loss: 0.5636 - acc: 0.5000 - val_loss: 0.5252 - val_acc: 0.5000\n",
      "Epoch 3/20\n",
      "80/80 [==============================] - 0s 175us/sample - loss: 0.5118 - acc: 0.5000 - val_loss: 0.4741 - val_acc: 0.5000\n",
      "Epoch 4/20\n",
      "80/80 [==============================] - 0s 167us/sample - loss: 0.4596 - acc: 0.5000 - val_loss: 0.4231 - val_acc: 0.5000\n",
      "Epoch 5/20\n",
      "80/80 [==============================] - 0s 163us/sample - loss: 0.4097 - acc: 0.5000 - val_loss: 0.3719 - val_acc: 0.5000\n",
      "Epoch 6/20\n",
      "80/80 [==============================] - 0s 175us/sample - loss: 0.3588 - acc: 0.5000 - val_loss: 0.3208 - val_acc: 0.5000\n",
      "Epoch 7/20\n",
      "80/80 [==============================] - 0s 162us/sample - loss: 0.3073 - acc: 0.5000 - val_loss: 0.2697 - val_acc: 0.5000\n",
      "Epoch 8/20\n",
      "80/80 [==============================] - 0s 175us/sample - loss: 0.2566 - acc: 0.5000 - val_loss: 0.2184 - val_acc: 0.5000\n",
      "Epoch 9/20\n",
      "80/80 [==============================] - 0s 162us/sample - loss: 0.2056 - acc: 0.5000 - val_loss: 0.1665 - val_acc: 0.5000\n",
      "Epoch 10/20\n",
      "80/80 [==============================] - 0s 175us/sample - loss: 0.1545 - acc: 0.5000 - val_loss: 0.1144 - val_acc: 0.5000\n",
      "Epoch 11/20\n",
      "80/80 [==============================] - 0s 175us/sample - loss: 0.1026 - acc: 0.5000 - val_loss: 0.0620 - val_acc: 0.5000\n",
      "Epoch 12/20\n",
      "80/80 [==============================] - 0s 175us/sample - loss: 0.0484 - acc: 0.5000 - val_loss: 0.0094 - val_acc: 0.5000\n",
      "Epoch 13/20\n",
      "80/80 [==============================] - 0s 175us/sample - loss: -0.0046 - acc: 0.5000 - val_loss: -0.0442 - val_acc: 0.5000\n",
      "Epoch 14/20\n",
      "80/80 [==============================] - 0s 162us/sample - loss: -0.0570 - acc: 0.5000 - val_loss: -0.0987 - val_acc: 0.5000\n",
      "Epoch 15/20\n",
      "80/80 [==============================] - 0s 175us/sample - loss: -0.1116 - acc: 0.5000 - val_loss: -0.1536 - val_acc: 0.5000\n",
      "Epoch 16/20\n",
      "80/80 [==============================] - 0s 175us/sample - loss: -0.1672 - acc: 0.5000 - val_loss: -0.2091 - val_acc: 0.5000\n",
      "Epoch 17/20\n",
      "80/80 [==============================] - 0s 175us/sample - loss: -0.2233 - acc: 0.5000 - val_loss: -0.2653 - val_acc: 0.5000\n",
      "Epoch 18/20\n",
      "80/80 [==============================] - 0s 188us/sample - loss: -0.2820 - acc: 0.5000 - val_loss: -0.3220 - val_acc: 0.5000\n",
      "Epoch 19/20\n",
      "80/80 [==============================] - 0s 161us/sample - loss: -0.3373 - acc: 0.5000 - val_loss: -0.3801 - val_acc: 0.5000\n",
      "Epoch 20/20\n",
      "80/80 [==============================] - 0s 175us/sample - loss: -0.3972 - acc: 0.5000 - val_loss: -0.4389 - val_acc: 0.5000\n"
     ]
    }
   ],
   "source": [
    "history=model.fit(features_tr,labels_tr, epochs=20, validation_split = 0.2)"
   ]
  },
  {
   "cell_type": "code",
   "execution_count": 21,
   "metadata": {},
   "outputs": [
    {
     "name": "stdout",
     "output_type": "stream",
     "text": [
      "Model: \"sequential_2\"\n",
      "_________________________________________________________________\n",
      "Layer (type)                 Output Shape              Param #   \n",
      "=================================================================\n",
      "dense_10 (Dense)             (None, 16)                112       \n",
      "_________________________________________________________________\n",
      "dense_11 (Dense)             (None, 30)                510       \n",
      "_________________________________________________________________\n",
      "dense_12 (Dense)             (None, 1)                 31        \n",
      "=================================================================\n",
      "Total params: 653\n",
      "Trainable params: 653\n",
      "Non-trainable params: 0\n",
      "_________________________________________________________________\n"
     ]
    }
   ],
   "source": [
    "model.summary()"
   ]
  },
  {
   "cell_type": "code",
   "execution_count": 22,
   "metadata": {},
   "outputs": [
    {
     "name": "stdout",
     "output_type": "stream",
     "text": [
      "60/1 [========================================================================================================================================================================================================================================================================================================================================================================================================================================================================================================================================================================================================================================================================================================================================================================================================================================================================================================================================================================================================================================================================================================================================================================================================================================================================================================================================================================================================================================================================================================================================================================================================================================================================================================================================================================================================================================================================] - 0s 50us/sample - loss: -0.4406 - acc: 0.5000\n",
      "[-0.44071767131487527, 0.5]\n"
     ]
    }
   ],
   "source": [
    "training_pred = model.predict(features_tr)\n",
    "testing_pred = model.predict(features_ts)\n",
    "performance = model.evaluate(features_ts, labels_ts)\n",
    "print(performance)"
   ]
  },
  {
   "cell_type": "code",
   "execution_count": 23,
   "metadata": {},
   "outputs": [
    {
     "data": {
      "text/plain": [
       "dict_keys(['loss', 'acc', 'val_loss', 'val_acc'])"
      ]
     },
     "execution_count": 23,
     "metadata": {},
     "output_type": "execute_result"
    }
   ],
   "source": [
    "history_dict = history.history\n",
    "history_dict.keys()"
   ]
  },
  {
   "cell_type": "code",
   "execution_count": 24,
   "metadata": {},
   "outputs": [
    {
     "data": {
      "image/png": "[encoded data removed]",
      "text/plain": [
       "<Figure size 432x288 with 1 Axes>"
      ]
     },
     "metadata": {
      "needs_background": "light"
     },
     "output_type": "display_data"
    }
   ],
   "source": [
    "# Checking Overfit\n",
    "acc = history_dict['acc']\n",
    "loss = history_dict['loss']\n",
    "val_acc = history_dict['val_acc']\n",
    "val_loss = history_dict['val_loss']\n",
    "\n",
    "epochs = range(1, len(acc) + 1)\n",
    "\n",
    "# \"bo\" is for \"blue dot\"\n",
    "plt.plot(epochs, loss, 'bo', label='Training loss')\n",
    "# b is for \"solid blue line\"\n",
    "plt.plot(epochs, val_loss, 'b', label='Validation loss')\n",
    "plt.title('Training loss')\n",
    "plt.xlabel('Epochs')\n",
    "plt.ylabel('Loss')\n",
    "plt.legend()\n",
    "\n",
    "plt.show()"
   ]
  },
  {
   "cell_type": "code",
   "execution_count": 25,
   "metadata": {},
   "outputs": [],
   "source": [
    "model1 = keras.Sequential([keras.layers.Dense(16,input_dim=np.shape(features_ts)[1], activation='sigmoid', kernel_initializer='uniform'),\n",
    "                          keras.layers.Dense(30, activation = 'sigmoid', kernel_initializer = 'uniform'),\n",
    "                          keras.layers.Dense(1,activation='sigmoid', kernel_initializer='uniform')])"
   ]
  },
  {
   "cell_type": "code",
   "execution_count": 26,
   "metadata": {},
   "outputs": [],
   "source": [
    "model1.compile(loss='binary_crossentropy', optimizer = 'adam', metrics=['acc'])"
   ]
  },
  {
   "cell_type": "code",
   "execution_count": 27,
   "metadata": {
    "scrolled": true
   },
   "outputs": [
    {
     "name": "stdout",
     "output_type": "stream",
     "text": [
      "Train on 48 samples, validate on 12 samples\n",
      "Epoch 1/30\n",
      "48/48 [==============================] - 0s 9ms/sample - loss: 0.7650 - acc: 0.0000e+00 - val_loss: 0.7297 - val_acc: 0.0000e+00\n",
      "Epoch 2/30\n",
      "48/48 [==============================] - 0s 292us/sample - loss: 0.7269 - acc: 0.0000e+00 - val_loss: 0.6974 - val_acc: 0.0000e+00\n",
      "Epoch 3/30\n",
      "48/48 [==============================] - 0s 250us/sample - loss: 0.6917 - acc: 0.1458 - val_loss: 0.6653 - val_acc: 0.5833\n",
      "Epoch 4/30\n",
      "48/48 [==============================] - 0s 271us/sample - loss: 0.6556 - acc: 0.4792 - val_loss: 0.6336 - val_acc: 0.5833\n",
      "Epoch 5/30\n",
      "48/48 [==============================] - 0s 271us/sample - loss: 0.6203 - acc: 0.4792 - val_loss: 0.6021 - val_acc: 0.5833\n",
      "Epoch 6/30\n",
      "48/48 [==============================] - 0s 271us/sample - loss: 0.5866 - acc: 0.4792 - val_loss: 0.5709 - val_acc: 0.5833\n",
      "Epoch 7/30\n",
      "48/48 [==============================] - 0s 271us/sample - loss: 0.5504 - acc: 0.4792 - val_loss: 0.5400 - val_acc: 0.5833\n",
      "Epoch 8/30\n",
      "48/48 [==============================] - 0s 271us/sample - loss: 0.5170 - acc: 0.4792 - val_loss: 0.5093 - val_acc: 0.5833\n",
      "Epoch 9/30\n",
      "48/48 [==============================] - 0s 271us/sample - loss: 0.4829 - acc: 0.4792 - val_loss: 0.4788 - val_acc: 0.5833\n",
      "Epoch 10/30\n",
      "48/48 [==============================] - 0s 271us/sample - loss: 0.4488 - acc: 0.4792 - val_loss: 0.4485 - val_acc: 0.5833\n",
      "Epoch 11/30\n",
      "48/48 [==============================] - 0s 250us/sample - loss: 0.4134 - acc: 0.4792 - val_loss: 0.4184 - val_acc: 0.5833\n",
      "Epoch 12/30\n",
      "48/48 [==============================] - 0s 271us/sample - loss: 0.3795 - acc: 0.4792 - val_loss: 0.3881 - val_acc: 0.5833\n",
      "Epoch 13/30\n",
      "48/48 [==============================] - 0s 271us/sample - loss: 0.3461 - acc: 0.4792 - val_loss: 0.3577 - val_acc: 0.5833\n",
      "Epoch 14/30\n",
      "48/48 [==============================] - 0s 271us/sample - loss: 0.3119 - acc: 0.4792 - val_loss: 0.3272 - val_acc: 0.5833\n",
      "Epoch 15/30\n",
      "48/48 [==============================] - 0s 250us/sample - loss: 0.2779 - acc: 0.4792 - val_loss: 0.2968 - val_acc: 0.5833\n",
      "Epoch 16/30\n",
      "48/48 [==============================] - 0s 250us/sample - loss: 0.2428 - acc: 0.4792 - val_loss: 0.2663 - val_acc: 0.5833\n",
      "Epoch 17/30\n",
      "48/48 [==============================] - 0s 250us/sample - loss: 0.2083 - acc: 0.4792 - val_loss: 0.2356 - val_acc: 0.5833\n",
      "Epoch 18/30\n",
      "48/48 [==============================] - 0s 250us/sample - loss: 0.1728 - acc: 0.4792 - val_loss: 0.2048 - val_acc: 0.5833\n",
      "Epoch 19/30\n",
      "48/48 [==============================] - 0s 271us/sample - loss: 0.1389 - acc: 0.4792 - val_loss: 0.1736 - val_acc: 0.5833\n",
      "Epoch 20/30\n",
      "48/48 [==============================] - 0s 250us/sample - loss: 0.1022 - acc: 0.4792 - val_loss: 0.1422 - val_acc: 0.5833\n",
      "Epoch 21/30\n",
      "48/48 [==============================] - 0s 271us/sample - loss: 0.0678 - acc: 0.4792 - val_loss: 0.1105 - val_acc: 0.5833\n",
      "Epoch 22/30\n",
      "48/48 [==============================] - 0s 250us/sample - loss: 0.0317 - acc: 0.4792 - val_loss: 0.0787 - val_acc: 0.5833\n",
      "Epoch 23/30\n",
      "48/48 [==============================] - 0s 250us/sample - loss: -0.0059 - acc: 0.4792 - val_loss: 0.0467 - val_acc: 0.5833\n",
      "Epoch 24/30\n",
      "48/48 [==============================] - 0s 250us/sample - loss: -0.0399 - acc: 0.4792 - val_loss: 0.0144 - val_acc: 0.5833\n",
      "Epoch 25/30\n",
      "48/48 [==============================] - 0s 271us/sample - loss: -0.0783 - acc: 0.4792 - val_loss: -0.0179 - val_acc: 0.5833\n",
      "Epoch 26/30\n",
      "48/48 [==============================] - 0s 271us/sample - loss: -0.1162 - acc: 0.4792 - val_loss: -0.0504 - val_acc: 0.5833\n",
      "Epoch 27/30\n",
      "48/48 [==============================] - 0s 250us/sample - loss: -0.1536 - acc: 0.4792 - val_loss: -0.0833 - val_acc: 0.5833\n",
      "Epoch 28/30\n",
      "48/48 [==============================] - 0s 250us/sample - loss: -0.1901 - acc: 0.4792 - val_loss: -0.1166 - val_acc: 0.5833\n",
      "Epoch 29/30\n",
      "48/48 [==============================] - 0s 250us/sample - loss: -0.2284 - acc: 0.4792 - val_loss: -0.1499 - val_acc: 0.5833\n",
      "Epoch 30/30\n",
      "48/48 [==============================] - 0s 250us/sample - loss: -0.2693 - acc: 0.4792 - val_loss: -0.1832 - val_acc: 0.5833\n"
     ]
    }
   ],
   "source": [
    "history1=model1.fit(features_ts,labels_ts, epochs=30, validation_split = 0.2)"
   ]
  },
  {
   "cell_type": "code",
   "execution_count": 28,
   "metadata": {},
   "outputs": [
    {
     "data": {
      "text/plain": [
       "dict_keys(['loss', 'acc', 'val_loss', 'val_acc'])"
      ]
     },
     "execution_count": 28,
     "metadata": {},
     "output_type": "execute_result"
    }
   ],
   "source": [
    "history_dict = history1.history\n",
    "history_dict.keys()"
   ]
  },
  {
   "cell_type": "code",
   "execution_count": 29,
   "metadata": {},
   "outputs": [
    {
     "data": {
      "image/png": "[encoded data removed]",
      "text/plain": [
       "<Figure size 432x288 with 1 Axes>"
      ]
     },
     "metadata": {
      "needs_background": "light"
     },
     "output_type": "display_data"
    }
   ],
   "source": [
    "# Checking Overfit\n",
    "acc = history_dict['acc']\n",
    "loss = history_dict['loss']\n",
    "val_acc = history_dict['val_acc']\n",
    "val_loss = history_dict['val_loss']\n",
    "\n",
    "epochs = range(1, len(acc) + 1)\n",
    "\n",
    "# \"bo\" is for \"blue dot\"\n",
    "plt.plot(epochs, loss, 'bo', label='Training loss')\n",
    "# b is for \"solid blue line\"\n",
    "plt.plot(epochs, val_loss, 'b', label='Validation loss')\n",
    "plt.title('Training loss')\n",
    "plt.xlabel('Epochs')\n",
    "plt.ylabel('Loss')\n",
    "plt.legend()\n",
    "\n",
    "plt.show()"
   ]
  },
  {
   "cell_type": "code",
   "execution_count": null,
   "metadata": {},
   "outputs": [],
   "source": []
  }
 ],
 "metadata": {
  "kernelspec": {
   "display_name": "Python 3",
   "language": "python",
   "name": "python3"
  },
  "language_info": {
   "codemirror_mode": {
    "name": "ipython",
    "version": 3
   },
   "file_extension": ".py",
   "mimetype": "text/x-python",
   "name": "python",
   "nbconvert_exporter": "python",
   "pygments_lexer": "ipython3",
   "version": "3.7.3"
  }
 },
 "nbformat": 4,
 "nbformat_minor": 2
}
