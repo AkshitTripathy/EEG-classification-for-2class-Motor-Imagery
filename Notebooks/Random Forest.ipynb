{
 "cells": [
  {
   "cell_type": "code",
   "execution_count": 1,
   "metadata": {},
   "outputs": [],
   "source": [
    "import numpy as np\n",
    "import pandas as pd\n",
    "import scipy.io\n",
    "from scipy import linalg as LA\n",
    "from sklearn.ensemble import RandomForestClassifier"
   ]
  },
  {
   "cell_type": "code",
   "execution_count": 2,
   "metadata": {},
   "outputs": [],
   "source": [
    "def covariance(X):\n",
    "    return np.dot(X,X.T)/np.trace(np.dot(X,X.T))\n",
    "\n",
    "def get_feat(data,sf):\n",
    "    return np.log(np.var(np.dot(sf.T,data.T),axis=1)) #check axis"
   ]
  },
  {
   "cell_type": "code",
   "execution_count": 3,
   "metadata": {},
   "outputs": [],
   "source": [
    "def get_spatial(left, right, J):\n",
    "    c = left + right\n",
    "    eigvals,eigvecs = LA.eig(c)\n",
    "    diag_inv = np.zeros((c.shape[1],c.shape[1]))\n",
    "    for i in range(eigvals.shape[0]):\n",
    "        diag_inv[i,i]=(1/np.abs(eigvals[i].real))\n",
    "        \n",
    "    P = np.sqrt(diag_inv)*eigvecs.T\n",
    "    s_l = P* left*P.T\n",
    "    s_r = P* right*P.T\n",
    "    E1, U1 = LA.eig(s_l,s_r)\n",
    "    ord1 = np.argsort(E1)\n",
    "    ord1 = ord1[::-1]\n",
    "    E1 = E1[ord1]\n",
    "    U1 = U1[:,ord1]\n",
    "    W = np.dot(U1,P)\n",
    "    W_select = np.zeros([np.shape(W)[0],2*J])\n",
    "    W_select[:,0:J]=W[:,0:J]\n",
    "    W_select[:,J::] = W[:,np.shape(W)[1]-J:np.shape(W)[1]]\n",
    "    return W_select"
   ]
  },
  {
   "cell_type": "code",
   "execution_count": 5,
   "metadata": {},
   "outputs": [
    {
     "name": "stdout",
     "output_type": "stream",
     "text": [
      "Training Features Computed\n",
      " Computing Testing features...\n",
      "Features for training and Testing computed\n"
     ]
    }
   ],
   "source": [
    "num_sub=14\n",
    "features_test=dict()\n",
    "features_train=dict()\n",
    "labels_train=dict()\n",
    "labels_test=dict()\n",
    "num_channels=15\n",
    "hand=np.zeros((num_channels,num_channels))\n",
    "leg=np.zeros((num_channels,num_channels))\n",
    "labels=[]\n",
    "spatial_filter=dict()\n",
    "for sub in range(num_sub):\n",
    "    features_train[sub]=[]\n",
    "    labels_train[sub]=[]\n",
    "    file_train = 'S0%dT.mat'% (sub+1)\n",
    "#     mat_train = scipy.io.loadmat(file_train)\n",
    "    if (sub+1)<10:    \n",
    "        file_train='S0%dT.mat'% (sub+1)\n",
    "        mat_train=scipy.io.loadmat(file_train)\n",
    "    else:\n",
    "        file_train='S%dT.mat'% (sub+1)\n",
    "        mat_train=scipy.io.loadmat(file_train)\n",
    "    data_train=mat_train['data']\n",
    "    for k in range(5):\n",
    "        cell_train=data_train[0][k]\n",
    "        X_train=cell_train[0][0][0]\n",
    "        time_train=cell_train[0][0][1]\n",
    "        labels_x_train=cell_train[0][0][2]\n",
    "        labels_train[sub].extend(labels_x_train[0])\n",
    "        var=0\n",
    "        for l_x in range(len(labels_x_train[0])):\n",
    "            if labels_x_train[0][l_x]==1:\n",
    "                hand+=covariance(X_train[var:time_train[0][l_x],:].T) #transpose because we need num_channel vs num_channel\n",
    "            else:\n",
    "                leg+=covariance(X_train[var:time_train[0][l_x],:].T)\n",
    "            var=time_train[0][l_x]\n",
    "        mean_hand=hand/num_sub\n",
    "        mean_leg=leg/num_sub\n",
    "        num_features=3 \n",
    "        spatial_filter[sub]=get_spatial(mean_hand,mean_leg,num_features)\n",
    "    \n",
    "        var=0\n",
    "        for count in range(len(time_train[0])):\n",
    "            features_train[sub].append(get_feat(X_train[var:time_train[0][count],:],spatial_filter[sub]))\n",
    "            var=time_train[0][count]    \n",
    "    features_train[sub]=np.array(features_train[sub]) \n",
    "    np.random.shuffle(features_train[sub])\n",
    "print(\"Training Features Computed\\n Computing Testing features...\")\n",
    "for sub in range(num_sub): \n",
    "    features_test[sub]=[]\n",
    "    labels_test[sub]=[]\n",
    "    file_test = 'S0%dE.mat'% (sub+1)\n",
    "#     mat_test = scipy.io.loadmat(file_train)\n",
    "    if (sub+1)<10:\n",
    "        file_test='S0%dE.mat'% (sub+1)\n",
    "        mat_test=scipy.io.loadmat(file_test)\n",
    "    else:\n",
    "        file_test='S%dE.mat'% (sub+1)\n",
    "        mat_test=scipy.io.loadmat(file_test)\n",
    "    data_test=mat_test['data']\n",
    "    for k in range(3):    \n",
    "        cell_test=data_test[0][k]\n",
    "        X_test=cell_test[0][0][0]\n",
    "        time_test=cell_test[0][0][1]\n",
    "        labels_x_test=cell_test[0][0][2]\n",
    "        labels_test[sub].extend(labels_x_test[0])    \n",
    "        var=0\n",
    "        for count in range(len(time_test[0])):\n",
    "            features_test[sub].append(get_feat(X_test[var:time_test[0][count],:],spatial_filter[sub]))\n",
    "            var=time_test[0][count]   \n",
    "    features_test[sub]=np.array(features_test[sub])\n",
    "    np.random.shuffle(features_test[sub])\n",
    "print(\"Features for training and Testing computed\")"
   ]
  },
  {
   "cell_type": "code",
   "execution_count": 6,
   "metadata": {},
   "outputs": [],
   "source": [
    "labels_tr = np.array(labels_train[sub])\n",
    "labels_ts = np.array(labels_test[sub])\n",
    "features_tr = features_train[sub]\n",
    "features_ts = features_test[sub]\n"
   ]
  },
  {
   "cell_type": "code",
   "execution_count": 6,
   "metadata": {},
   "outputs": [
    {
     "name": "stdout",
     "output_type": "stream",
     "text": [
      "Training Features Shape: (100, 6)\n",
      "Training Labels Shape: (100,)\n",
      "Testing Features Shape: (60, 6)\n",
      "Testing Labels Shape: (60,)\n"
     ]
    }
   ],
   "source": [
    "model=RandomForestClassifier(max_depth=None,min_samples_leaf=1,random_state=0,n_estimators=1500)\n",
    "model.fit(features_tr,labels_tr)\n",
    "pred_train=model.predict(features_tr)\n",
    "pred_test=model.predict(features_ts)\n",
    "\n",
    "print('Training Features Shape:', features_tr.shape)\n",
    "print('Training Labels Shape:', labels_tr.shape)\n",
    "print('Testing Features Shape:', features_ts.shape)\n",
    "print('Testing Labels Shape:', labels_ts.shape)\n"
   ]
  },
  {
   "cell_type": "code",
   "execution_count": 7,
   "metadata": {
    "scrolled": true
   },
   "outputs": [
    {
     "name": "stdout",
     "output_type": "stream",
     "text": [
      "Training Accuracy:  100.0\n",
      "Testing Accuracy:  70.0\n"
     ]
    }
   ],
   "source": [
    "#calculate accuracy\n",
    "score_tr = 0\n",
    "for i in range(len(pred_train)):\n",
    "    if(pred_train[i] == labels_tr[i]):\n",
    "        score_tr+=1\n",
    "accuracy_tr = (score_tr/len(pred_train)*100)\n",
    "print('Training Accuracy: ', round(accuracy_tr,2))\n",
    "score_ts = 0\n",
    "for i in range(len(pred_test)):\n",
    "    if (pred_test[i]==labels_ts[i]):\n",
    "        score_ts+=1\n",
    "accuracy = (score_ts/len(pred_test) *100)\n",
    "print('Testing Accuracy: ',round(accuracy,2))"
   ]
  }
 ],
 "metadata": {
  "kernelspec": {
   "display_name": "Python 3",
   "language": "python",
   "name": "python3"
  },
  "language_info": {
   "codemirror_mode": {
    "name": "ipython",
    "version": 3
   },
   "file_extension": ".py",
   "mimetype": "text/x-python",
   "name": "python",
   "nbconvert_exporter": "python",
   "pygments_lexer": "ipython3",
   "version": "3.7.3"
  }
 },
 "nbformat": 4,
 "nbformat_minor": 2
}
